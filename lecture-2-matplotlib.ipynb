{
 "cells": [
  {
   "cell_type": "markdown",
   "id": "8a64a833",
   "metadata": {},
   "source": [
    "# Matplotlib\n",
    "\n",
    "We may use visualization for various purposes. For example, visulization may help identify outliers, generate new ideas, or identify data that need some kind of transformation, and so on."
   ]
  },
  {
   "cell_type": "code",
   "execution_count": null,
   "id": "81f197f4",
   "metadata": {},
   "outputs": [],
   "source": [
    "import numpy as np\n",
    "import pandas as pd\n",
    "import matplotlib.pyplot as plt\n",
    "import seaborn as sns"
   ]
  },
  {
   "cell_type": "markdown",
   "id": "edbb54a4",
   "metadata": {},
   "source": [
    "## Figures and Subplots\n",
    "Plots in matplotlib reside within a Figure object. However, you can’t make a plot with a blank figure. You have to create one or more subplots. You can find all the properties and functions of a `Figure` object [here](https://matplotlib.org/3.5.0/api/figure_api.html#matplotlib.figure.Figure)."
   ]
  },
  {
   "cell_type": "code",
   "execution_count": null,
   "id": "ef7e90de",
   "metadata": {},
   "outputs": [],
   "source": [
    "fig = plt.figure()\n",
    "ax1 = fig.add_subplot(2, 2, 1)\n",
    "ax2 = fig.add_subplot(2, 2, 2)\n",
    "ax3 = fig.add_subplot(2, 2, 3)\n",
    "ax4 = fig.add_subplot(2, 2, 4)"
   ]
  },
  {
   "cell_type": "markdown",
   "id": "b740f607",
   "metadata": {},
   "source": [
    "We can also create grid of subplots using the `subplots` function. You can also the spacing between each subplots using the `subplots_adjust` function."
   ]
  },
  {
   "cell_type": "code",
   "execution_count": null,
   "id": "c30cf2c4",
   "metadata": {},
   "outputs": [],
   "source": [
    "fig, axes = plt.subplots(2, 3)\n",
    "plt.subplots_adjust(wspace=0.5, hspace=0.5)"
   ]
  },
  {
   "cell_type": "code",
   "execution_count": null,
   "id": "4904c05a",
   "metadata": {},
   "outputs": [],
   "source": [
    "axes"
   ]
  },
  {
   "cell_type": "markdown",
   "id": "025687a3",
   "metadata": {},
   "source": [
    "## Line Plot"
   ]
  },
  {
   "cell_type": "code",
   "execution_count": null,
   "id": "c5fc4024",
   "metadata": {},
   "outputs": [],
   "source": [
    "x = [55, 67, 85]\n",
    "y = [5.5, 5.7, 6]\n",
    "\n",
    "fig, axes = plt.subplots(1, 3, sharex=True, sharey=True)\n",
    "\n",
    "axes[0].plot(x, y)\n",
    "axes[1].plot(x, y)\n",
    "\n",
    "plt.show()"
   ]
  },
  {
   "cell_type": "markdown",
   "id": "175329cd",
   "metadata": {},
   "source": [
    "### Annotating the Axes\n",
    "\n",
    "The functions `xlabel`, `ylabel`, and `title` have their own customizable parameters. See [here](https://matplotlib.org/stable/api/_as_gen/matplotlib.pyplot.xlabel.html#matplotlib.pyplot.xlabel), [here](https://matplotlib.org/stable/api/_as_gen/matplotlib.pyplot.ylabel.html#matplotlib.pyplot.ylabel), and [here](https://matplotlib.org/stable/api/_as_gen/matplotlib.pyplot.title.html#matplotlib.pyplot.title) for more information."
   ]
  },
  {
   "cell_type": "code",
   "execution_count": null,
   "id": "b05beaba",
   "metadata": {},
   "outputs": [],
   "source": [
    "fig, axes = plt.subplots(1, 2, sharex=True, sharey=True)\n",
    "\n",
    "axes[0].plot(x, y)\n",
    "axes[1].plot(x, y)\n",
    "\n",
    "axes[0].set_xlabel('Weight (KG)')\n",
    "axes[0].set_ylabel('Height (Feet)')\n",
    "axes[0].set_title('Height Vs. Weight')\n",
    "\n",
    "axes[1].set_xlabel('Weight (KG)')\n",
    "axes[1].set_ylabel('Height (Feet)')\n",
    "axes[1].set_title('Height Vs. Weight')\n",
    "\n",
    "plt.suptitle('Height vs. Weight')\n",
    "plt.subplots_adjust(hspace=0.25, wspace=0.25)\n",
    "\n",
    "plt.show()"
   ]
  },
  {
   "attachments": {},
   "cell_type": "markdown",
   "id": "e36c6960",
   "metadata": {},
   "source": [
    "### Changing Fonts\n",
    "\n",
    "You can find the list of color names [here](https://matplotlib.org/stable/gallery/color/named_colors.html). Also, notice that when you are directly using the `plt` module to create charts, you call `xlabel`, `ylabel`, `title`, and so on. However, when you are calling them on an axes object, you have to use `set_xlabel`, `set_ylabel`, `set_title`, and so on."
   ]
  },
  {
   "cell_type": "code",
   "execution_count": null,
   "id": "e56aa1f8",
   "metadata": {},
   "outputs": [],
   "source": [
    "plt.plot(x, y)\n",
    "\n",
    "plt.xlabel('Weight (KG)', fontdict={'fontname': 'Arial', 'fontsize': 16, 'color':'red'})\n",
    "plt.ylabel('Height (Feet)', fontdict={'fontname': 'Arial', 'fontsize': 16, 'color': 'blue'})\n",
    "plt.title('Height vs. Weight', fontdict={'fontname': 'Arial', 'fontsize': 20})\n",
    "\n",
    "plt.show()"
   ]
  },
  {
   "attachments": {},
   "cell_type": "markdown",
   "id": "a8d4d8ef",
   "metadata": {},
   "source": [
    "### Changing Axes Ticks"
   ]
  },
  {
   "cell_type": "code",
   "execution_count": null,
   "id": "11bb7761",
   "metadata": {},
   "outputs": [],
   "source": [
    "plt.plot(x, y)\n",
    "\n",
    "plt.xlabel('Weight (KG)', fontdict={'fontname': 'Comic Sans MS', 'fontsize': 16})\n",
    "plt.ylabel('Height (Feet)', fontdict={'fontname': 'Comic Sans MS', 'fontsize': 16})\n",
    "plt.title('Height vs. Weight', fontdict={'fontname': 'Comic Sans MS', 'fontsize': 16})\n",
    "\n",
    "plt.xticks(np.linspace(55, 85, 16))\n",
    "plt.yticks(np.linspace(5.5, 6.5, 11))\n",
    "\n",
    "plt.show()"
   ]
  },
  {
   "attachments": {},
   "cell_type": "markdown",
   "id": "bd0a04ed",
   "metadata": {},
   "source": [
    "### Changing Axes Limits"
   ]
  },
  {
   "cell_type": "code",
   "execution_count": null,
   "id": "caf7ecf3",
   "metadata": {},
   "outputs": [],
   "source": [
    "plt.plot(x, y)\n",
    "\n",
    "plt.xlabel('Weight (KG)', fontdict={'fontname': 'Comic Sans MS', 'fontsize': 16})\n",
    "plt.ylabel('Height (Feet)', fontdict={'fontname': 'Comic Sans MS', 'fontsize': 16})\n",
    "plt.title('Height vs. Weight', fontdict={'fontname': 'Comic Sans MS', 'fontsize': 16})\n",
    "\n",
    "plt.xlim([40, 100])\n",
    "plt.xticks([i for i in range(40, 101, 5)])\n",
    "plt.ylim([5, 7])\n",
    "plt.yticks([i for i in np.linspace(5, 7, 5)])\n",
    "\n",
    "plt.show()"
   ]
  },
  {
   "attachments": {},
   "cell_type": "markdown",
   "id": "21738747",
   "metadata": {},
   "source": [
    "### Changing Axes Labels\n",
    "We can also assign labels to each tick according to our needs. You can find more information about `xticks` and `yticks` at [here](https://matplotlib.org/stable/api/_as_gen/matplotlib.pyplot.xticks.html#matplotlib.pyplot.xticks) and [here](https://matplotlib.org/stable/api/_as_gen/matplotlib.pyplot.yticks.html#matplotlib.pyplot.yticks)."
   ]
  },
  {
   "cell_type": "code",
   "execution_count": null,
   "id": "dfc8ef60",
   "metadata": {},
   "outputs": [],
   "source": [
    "a = [0, 1]\n",
    "b = [10, 11]\n",
    "\n",
    "plt.plot(a, b)\n",
    "plt.xticks([0, 1], labels=['Cat', 'Dog'], rotation=90, fontsize='large')\n",
    "plt.yticks([10, 11], labels=['Cat', 'Dog'], rotation=75, fontsize='medium')\n",
    "plt.show()"
   ]
  },
  {
   "cell_type": "markdown",
   "id": "384eb09b",
   "metadata": {},
   "source": [
    "### Changing Channels\n",
    "\n",
    "Go to the `pylot.plot()` documentation [here](https://matplotlib.org/stable/api/_as_gen/matplotlib.pyplot.plot.html#matplotlib.pyplot.plot). You will see all the possible tweaks you can make with the plots with corresponding examples."
   ]
  },
  {
   "cell_type": "code",
   "execution_count": null,
   "id": "ba9ae68d",
   "metadata": {},
   "outputs": [],
   "source": [
    "plt.plot(x, y, c='r', linewidth=3)\n",
    "\n",
    "plt.xlabel('Weight (KG)', fontdict={'fontname': 'Comic Sans MS', 'fontsize': 16})\n",
    "plt.ylabel('Height (Feet)', fontdict={'fontname': 'Comic Sans MS', 'fontsize': 16})\n",
    "plt.title('Height vs. Weight', fontdict={'fontname': 'Comic Sans MS', 'fontsize': 20})\n",
    "\n",
    "plt.xticks([i for i in range(55, 86, 2)])\n",
    "plt.yticks(np.linspace(5.5, 6.5, 11))\n",
    "\n",
    "plt.show()"
   ]
  },
  {
   "cell_type": "code",
   "execution_count": null,
   "id": "8e0e44b8",
   "metadata": {},
   "outputs": [],
   "source": [
    "plt.plot(x, y, c='#134534', linewidth=3, alpha=0.5, linestyle='-.')\n",
    "\n",
    "plt.xlabel('Weight (KG)', fontdict={'fontname': 'Comic Sans MS', 'fontsize': 16})\n",
    "plt.ylabel('Height (Feet)', fontdict={'fontname': 'Comic Sans MS', 'fontsize': 16})\n",
    "plt.title('Height vs. Weight', fontdict={'fontname': 'Comic Sans MS', 'fontsize': 16})\n",
    "\n",
    "plt.xticks([i for i in range(55, 86, 2)])\n",
    "plt.yticks(np.linspace(5.5, 6.5, 11))\n",
    "\n",
    "plt.show()"
   ]
  },
  {
   "cell_type": "code",
   "execution_count": null,
   "id": "74f3855d",
   "metadata": {},
   "outputs": [],
   "source": [
    "plt.plot(x, y, c='r', linewidth=3, alpha=0.5, \n",
    "         linestyle='-.', marker='.', markersize=14, markeredgecolor='blue')\n",
    "\n",
    "plt.xlabel('Weight (KG)', fontdict={'fontname': 'Comic Sans MS', 'fontsize': 16})\n",
    "plt.ylabel('Height (Feet)', fontdict={'fontname': 'Comic Sans MS', 'fontsize': 16})\n",
    "plt.title('Height vs. Weight', fontdict={'fontname': 'Comic Sans MS', 'fontsize': 16})\n",
    "\n",
    "plt.xticks([i for i in range(55, 86, 2)])\n",
    "plt.yticks(np.linspace(5.5, 6.5, 11))\n",
    "\n",
    "plt.show()"
   ]
  },
  {
   "cell_type": "code",
   "execution_count": null,
   "id": "bfe987d3",
   "metadata": {},
   "outputs": [],
   "source": [
    "a = np.arange(55, 85, 5)\n",
    "b = a ** 0.43"
   ]
  },
  {
   "cell_type": "code",
   "execution_count": null,
   "id": "20e4ab66",
   "metadata": {},
   "outputs": [],
   "source": [
    "plt.plot(x, y, c='red', linewidth=3, alpha=0.5, linestyle='--', marker='.',\n",
    "         markersize=12, markeredgecolor='black', label='Female')\n",
    "\n",
    "plt.plot(a, b, c='blue', linewidth=3, alpha=0.5, linestyle='-.', marker='*',\n",
    "         markersize=12, markeredgecolor='black', label='Male')\n",
    "\n",
    "plt.xlabel('Weight (KG)', fontdict={'fontname': 'Comic Sans MS', 'fontsize': 16})\n",
    "plt.ylabel('Height (Feet)', fontdict={'fontname': 'Comic Sans MS', 'fontsize': 16})\n",
    "plt.title('Height vs. Weight', fontdict={'fontname': 'Comic Sans MS', 'fontsize': 16})\n",
    "\n",
    "plt.xticks([i for i in range(55, 86, 2)])\n",
    "plt.yticks(np.linspace(5.5, 6.5, 11))\n",
    "\n",
    "plt.legend(loc='lower right')\n",
    "\n",
    "plt.show()"
   ]
  },
  {
   "cell_type": "code",
   "execution_count": null,
   "id": "4d01f80e",
   "metadata": {},
   "outputs": [],
   "source": [
    "plt.plot(x[:2], y[:2], c='red', linewidth=3, alpha=0.5, linestyle='--', marker='.',\n",
    "         markersize=12, markeredgecolor='black', label='Female')\n",
    "\n",
    "plt.plot(x[1:], y[1:], c='red', linewidth=3, alpha=0.5, linestyle='-', marker='H',\n",
    "         markersize=12, markeredgecolor='black', label='Female (Pregnant)')\n",
    "\n",
    "plt.plot(a, b, c='blue', linewidth=3, alpha=0.5, linestyle='-.', marker='*',\n",
    "         markersize=12, markeredgecolor='black', label='Male')\n",
    "\n",
    "plt.xlabel('Weight (KG)', fontdict={'fontname': 'Comic Sans MS', 'fontsize': 16})\n",
    "plt.ylabel('Height (Feet)', fontdict={'fontname': 'Comic Sans MS', 'fontsize': 16})\n",
    "plt.title('Height vs. Weight', fontdict={'fontname': 'Comic Sans MS', 'fontsize': 16})\n",
    "\n",
    "plt.xticks([i for i in range(55, 86, 2)])\n",
    "plt.yticks(np.linspace(5.5, 6.5, 11))\n",
    "\n",
    "plt.legend()\n",
    "\n",
    "plt.show()"
   ]
  },
  {
   "cell_type": "markdown",
   "id": "14a065cb",
   "metadata": {},
   "source": [
    "### Changing Figure Size\n",
    "\n",
    "**You can find other paramteres of `figure` [here](https://matplotlib.org/stable/api/_as_gen/matplotlib.pyplot.figure.html#matplotlib.pyplot.figure).**"
   ]
  },
  {
   "cell_type": "code",
   "execution_count": null,
   "metadata": {},
   "outputs": [],
   "source": [
    "plt.figure(figsize=(5, 5), dpi=300)\n",
    "\n",
    "plt.plot(x[:2], y[:2], c='red', linewidth=3, alpha=0.5, linestyle='--', marker='.',\n",
    "         markersize=12, markeredgecolor='black', label='Female')\n",
    "plt.plot(x[1:], y[1:], c='red', linewidth=3, alpha=0.5, linestyle='-', marker='H',\n",
    "         markersize=12, markeredgecolor='black', label='Female (Pregnant)')\n",
    "\n",
    "plt.plot(a, b, c='blue', linewidth=3, alpha=0.5, linestyle='-.', marker='*',\n",
    "         markersize=12, markeredgecolor='black', label='Male')\n",
    "\n",
    "plt.xlabel('Weight (KG)', fontdict={'fontname': 'Comic Sans MS', 'fontsize': 16})\n",
    "plt.ylabel('Height (Feet)', fontdict={'fontname': 'Comic Sans MS', 'fontsize': 16})\n",
    "plt.title('Height vs. Weight', fontdict={'fontname': 'Comic Sans MS', 'fontsize': 16})\n",
    "\n",
    "plt.xticks([i for i in range(55, 86, 2)])\n",
    "plt.yticks(np.linspace(5.5, 6.5, 11))\n",
    "\n",
    "plt.legend()\n",
    "plt.show()"
   ]
  },
  {
   "cell_type": "markdown",
   "id": "eb03214c",
   "metadata": {},
   "source": [
    "### A Simple Bar Plot\n",
    "\n",
    "As usual, you can find more on the `bar` function from the documentation [here](https://matplotlib.org/stable/api/_as_gen/matplotlib.pyplot.bar.html#matplotlib.pyplot.bar)."
   ]
  },
  {
   "cell_type": "code",
   "execution_count": null,
   "id": "9b6355fb",
   "metadata": {},
   "outputs": [],
   "source": [
    "players = ['Messi', 'Ronaldo', 'Neymar']\n",
    "goals = [672, 674, 229]"
   ]
  },
  {
   "cell_type": "code",
   "execution_count": null,
   "id": "4e94c6ff",
   "metadata": {},
   "outputs": [],
   "source": [
    "plt.figure(figsize=(6, 4), dpi=100)\n",
    "plt.bar(players, goals)\n",
    "\n",
    "plt.xlabel('Players', fontdict={'fontfamily': 'Tahoma', 'fontsize': 16, 'color': 'green'}, labelpad=20)\n",
    "plt.ylabel('Number of Goals', fontdict={'fontfamily': 'Tahoma', 'fontsize': 18, 'color': 'Red'}, labelpad=20)\n",
    "plt.title('Player Vs. Goals', fontdict={'fontfamily': 'Tahoma', 'fontsize': 18, 'color': 'Blue'}, loc='left', pad=20)\n",
    "\n",
    "plt.show()"
   ]
  },
  {
   "cell_type": "code",
   "execution_count": null,
   "metadata": {},
   "outputs": [],
   "source": [
    "plt.figure(figsize=(6, 4), dpi=100)\n",
    "\n",
    "bars = plt.bar(players, goals)\n",
    "\n",
    "bars[0].set_hatch('/')\n",
    "bars[1].set_hatch('*')\n",
    "bars[2].set_hatch('O')\n",
    "\n",
    "\n",
    "plt.xlabel('Players', fontdict={'fontfamily': 'Tahoma', 'fontsize': 16, 'color': 'green'},\n",
    "          labelpad=20)\n",
    "plt.ylabel('Number of Goals', fontdict={'fontfamily': 'Tahoma', 'fontsize': 18, 'color': 'Red'},\n",
    "          labelpad=20)\n",
    "plt.title('Player Vs. Goals', fontdict={'fontfamily': 'Tahoma', 'fontsize': 18, 'color': 'Blue'},\n",
    "          loc='left', pad=20)\n",
    "\n",
    "plt.show()"
   ]
  },
  {
   "cell_type": "code",
   "execution_count": null,
   "id": "0f5a7d18",
   "metadata": {},
   "outputs": [],
   "source": [
    "plt.figure(figsize=(6, 4), dpi=100)\n",
    "\n",
    "bars = plt.bar(players, goals, color=['w', 'w', 'w'], edgecolor='black', linewidth=1)\n",
    "\n",
    "bars[0].set_hatch('*')\n",
    "bars[1].set_hatch('x')\n",
    "bars[2].set_hatch('O')\n",
    "\n",
    "plt.xlabel('Players', fontdict={'fontfamily': 'Tahoma', 'fontsize': 16}, labelpad=20)\n",
    "plt.ylabel('Number of Goals', fontdict={'fontfamily': 'Tahoma', 'fontsize': 18}, labelpad=20)\n",
    "plt.title('Player Vs. Goals', fontdict={'fontfamily': 'Tahoma', 'fontsize': 18}, loc='left', pad=20)\n",
    "\n",
    "plt.show()"
   ]
  },
  {
   "cell_type": "code",
   "execution_count": null,
   "id": "576871b5",
   "metadata": {},
   "outputs": [],
   "source": [
    "# Some hypothetical data\n",
    "sections = ['Section A', 'Section B', 'Section C', 'Section D']\n",
    "men_avg_score = [25, 27, 29, -23]\n",
    "women_avg_score = [32, 31, 35, -17]\n",
    "\n",
    "men_std = [2, 3, 1, 5]\n",
    "women_std = [1, 1.5, 2, 1]"
   ]
  },
  {
   "cell_type": "code",
   "execution_count": null,
   "id": "0ea0afbc",
   "metadata": {},
   "outputs": [],
   "source": [
    "bars = plt.bar(sections, men_avg_score, color=['w', 'w', 'w', 'w'], edgecolor='black', linewidth=1)\n",
    "\n",
    "bars[0].set_hatch('/')\n",
    "bars[1].set_hatch('*')\n",
    "bars[2].set_hatch('\\\\')\n",
    "bars[3].set_hatch('o')\n",
    "\n",
    "plt.axhline(0, c='black', linewidth=1)\n",
    "\n",
    "plt.xlabel('Sections')\n",
    "plt.ylabel('Score')\n",
    "plt.title('Section-wise Scores of Male Students')\n",
    "\n",
    "plt.show()"
   ]
  },
  {
   "cell_type": "markdown",
   "id": "51cea37a",
   "metadata": {},
   "source": [
    "### Grouped Bar Chart"
   ]
  },
  {
   "cell_type": "code",
   "execution_count": null,
   "id": "9ff946a4",
   "metadata": {},
   "outputs": [],
   "source": [
    "figure, ax = plt.subplots()\n",
    "\n",
    "positions = np.arange(len(sections))\n",
    "ax.bar(positions, men_avg_score)\n",
    "\n",
    "plt.show()"
   ]
  },
  {
   "cell_type": "code",
   "execution_count": null,
   "id": "5865b465",
   "metadata": {},
   "outputs": [],
   "source": [
    "figure, ax = plt.subplots()\n",
    "\n",
    "positions = np.arange(len(sections))\n",
    "ax.bar(positions - 0.45/2, men_avg_score, 0.45)\n",
    "\n",
    "plt.show()"
   ]
  },
  {
   "cell_type": "code",
   "execution_count": null,
   "id": "3de915a7",
   "metadata": {},
   "outputs": [],
   "source": [
    "figure, ax = plt.subplots()\n",
    "\n",
    "positions = np.arange(len(sections))\n",
    "ax.bar(positions - 0.45/2, men_avg_score, 0.45)\n",
    "ax.bar(positions + 0.45/2, women_avg_score, 0.45)\n",
    "\n",
    "plt.show()"
   ]
  },
  {
   "cell_type": "code",
   "execution_count": null,
   "id": "f484a015",
   "metadata": {},
   "outputs": [],
   "source": [
    "figure, ax = plt.subplots(figsize=(6, 5), dpi=100)\n",
    "\n",
    "positions = np.arange(len(sections))\n",
    "males = ax.bar(positions - 0.45/2, men_avg_score, 0.45, color=['w', 'w', 'w', 'w'], edgecolor='black', label='Male')\n",
    "females = ax.bar(positions + 0.45/2, women_avg_score, 0.45, color=['w', 'w', 'w', 'w'], edgecolor='black', label='Female')\n",
    "\n",
    "for rect in males:\n",
    "    rect.set_hatch('/')\n",
    "for rect in females:\n",
    "    rect.set_hatch('O')\n",
    "\n",
    "ax.bar_label(males, padding=1)\n",
    "ax.bar_label(females, padding=1)\n",
    "\n",
    "ax.set_xticks(np.arange(4))\n",
    "ax.set_xticklabels(sections)\n",
    "\n",
    "ax.axhline(0, c='black', linewidth=1)\n",
    "\n",
    "ax.set_xlabel('Sections', fontdict={'fontsize': 16, 'fontfamily':'Times New Roman'})\n",
    "ax.set_ylabel('Scores', fontdict={'fontsize': 16, 'fontfamily':'Times New Roman'})\n",
    "ax.set_title('Section-wise Scores', loc='left', fontdict={'fontsize': 20, 'fontfamily':'Times New Roman'}, pad=16)\n",
    "ax.legend()\n",
    "\n",
    "plt.show()"
   ]
  },
  {
   "cell_type": "code",
   "execution_count": null,
   "id": "86405fc1",
   "metadata": {},
   "outputs": [],
   "source": [
    "figure, ax = plt.subplots(figsize=(6, 5), dpi=100)\n",
    "\n",
    "positions = np.arange(len(sections))\n",
    "males = ax.barh(positions - 0.45/2, men_avg_score, 0.45, color=['w', 'w', 'w', 'w'], edgecolor='black', label='Male')\n",
    "females = ax.barh(positions + 0.45/2, women_avg_score, 0.45, color=['w', 'w', 'w', 'w'], edgecolor='black', label='Female')\n",
    "\n",
    "for rect in males:\n",
    "    rect.set_hatch('/')\n",
    "for rect in females:\n",
    "    rect.set_hatch('O')\n",
    "\n",
    "ax.bar_label(males, padding=1)\n",
    "ax.bar_label(females, padding=1)\n",
    "\n",
    "ax.set_yticks(np.arange(4))\n",
    "ax.set_yticklabels(sections)\n",
    "ax.invert_yaxis()\n",
    "\n",
    "ax.axvline(0, c='black', linewidth=1)\n",
    "\n",
    "ax.set_xlabel('Scores', fontdict={'fontsize': 16, 'fontfamily':'Times New Roman'})\n",
    "ax.set_ylabel('Sections', fontdict={'fontsize': 16, 'fontfamily':'Times New Roman'})\n",
    "ax.set_title('Section-wise Scores', loc='left', fontdict={'fontsize': 20, 'fontfamily':'Times New Roman'}, pad=16)\n",
    "ax.legend()\n",
    "\n",
    "figure.tight_layout()\n",
    "\n",
    "plt.show()"
   ]
  },
  {
   "cell_type": "markdown",
   "id": "7b7165f5",
   "metadata": {},
   "source": [
    "### Stacked Bar Chart"
   ]
  },
  {
   "cell_type": "code",
   "execution_count": null,
   "id": "8c730648",
   "metadata": {},
   "outputs": [],
   "source": [
    "fig, ax = plt.subplots(figsize=(6, 5), dpi=100)\n",
    "\n",
    "ax.bar(sections, women_avg_score, yerr=women_std, color=['pink'], label='Female')\n",
    "ax.bar(sections, men_avg_score, yerr=men_std, color=['teal'], label='Male', bottom=women_avg_score)\n",
    "\n",
    "ax.set_xlabel('Sections')\n",
    "ax.set_ylabel('Scores')\n",
    "ax.set_title('Scores by Section')\n",
    "ax.legend()\n",
    "\n",
    "plt.show()"
   ]
  },
  {
   "cell_type": "code",
   "execution_count": null,
   "id": "91e0d4f6",
   "metadata": {},
   "outputs": [],
   "source": [
    "fig, ax = plt.subplots(figsize=(6, 5), dpi=125)\n",
    "\n",
    "males = ax.bar(sections, men_avg_score, color=['teal'], label='Male')\n",
    "females = ax.bar(sections, women_avg_score, color=['pink'], bottom=men_avg_score, label='Female')\n",
    "ax.axhline(0, c='black', linewidth=1)\n",
    "\n",
    "ax.set_xlabel('Sections')\n",
    "ax.set_ylabel('Scores')\n",
    "ax.set_title('Scores by Section')\n",
    "ax.legend()\n",
    "\n",
    "ax.bar_label(males, label_type='center')\n",
    "ax.bar_label(females, label_type='center')\n",
    "ax.bar_label(females, padding=2)\n",
    "\n",
    "plt.show()"
   ]
  },
  {
   "cell_type": "markdown",
   "id": "4128bc84",
   "metadata": {},
   "source": [
    "### A Simple Scatter Plot\n",
    "\n",
    "The documentation for the `scatter` function is [here](https://matplotlib.org/stable/api/_as_gen/matplotlib.pyplot.scatter.html#matplotlib.pyplot.scatter). You can find different markers available from [here](https://matplotlib.org/stable/api/markers_api.html#module-matplotlib.markers)."
   ]
  },
  {
   "cell_type": "code",
   "execution_count": null,
   "id": "be4511df",
   "metadata": {},
   "outputs": [],
   "source": [
    "plt.figure(figsize=(6, 5), dpi=150)\n",
    "\n",
    "\n",
    "x = np.arange(0.0, 50.0, 2.0)\n",
    "y = x ** 1.3 + np.random.rand(*x.shape) * 30.0\n",
    "\n",
    "s = np.random.rand(*x.shape) * 400 + 500\n",
    "\n",
    "plt.scatter(x, y, s, c=\"g\", alpha=0.5, marker='*',\n",
    "            label=\"Something\")\n",
    "\n",
    "plt.xlabel(\"Some Feature\")\n",
    "plt.ylabel(\"Another Feature\")\n",
    "\n",
    "plt.legend(loc='upper left')\n",
    "\n",
    "plt.show()"
   ]
  },
  {
   "cell_type": "markdown",
   "id": "47306d53",
   "metadata": {},
   "source": [
    "# Pie"
   ]
  },
  {
   "cell_type": "code",
   "execution_count": null,
   "id": "116897ad",
   "metadata": {},
   "outputs": [],
   "source": [
    "# Some hypothetical data\n",
    "sections = ['Section A', 'Section B', 'Section C', 'Section D']\n",
    "male_score = [25, 27, 29, 23]\n",
    "female_score = [32, 31, 35, 17]\n",
    "total_socre = [57, 58, 64, 40]"
   ]
  },
  {
   "cell_type": "code",
   "execution_count": null,
   "id": "5a934e8c",
   "metadata": {},
   "outputs": [],
   "source": [
    "fig1, ax = plt.subplots(figsize=(5, 6), dpi=100)\n",
    "\n",
    "ax.pie(total_socre, explode=[0, 0, 0.1, 0], labels=sections, autopct='%1.1f%%',\n",
    "       shadow=True, startangle=90)\n",
    "ax.axis('equal')\n",
    "\n",
    "plt.show()"
   ]
  },
  {
   "attachments": {},
   "cell_type": "markdown",
   "id": "8f61da0e",
   "metadata": {},
   "source": [
    "# Visualizing Distributions with Seaborn\n",
    "\n",
    "### [Violin Plot](https://python-graph-gallery.com/violin-plot/)\n",
    "The \"violin\" shape represents the distribution of the data.\n",
    "- The thicker part of the violin represents where the data is more common, and the thinner part represents where the data is less common.\n",
    "- The white dot inside the violin represents the median of the data.\n",
    "- The box on either side of the violin represents the interquartile range (IQR) of the data.\n",
    "- The lower edge of the box represents the first quartile (Q1), and the upper edge represents the third quartile (Q3).\n",
    "- The lines extending from the box (whiskers) indicate the range of the data, excluding any outliers.\n",
    "- Outliers are represented by individual points beyond the whiskers."
   ]
  },
  {
   "cell_type": "code",
   "execution_count": null,
   "id": "b0fd438b",
   "metadata": {},
   "outputs": [],
   "source": [
    "iris = pd.read_csv('./data/iris.csv')\n",
    "iris.head()"
   ]
  },
  {
   "cell_type": "code",
   "execution_count": null,
   "id": "95f5c012",
   "metadata": {},
   "outputs": [],
   "source": [
    "sns.violinplot(x=iris[\"variety\"], y=iris[\"sepal.length\"], palette='Blues')\n",
    "plt.xlabel(\"Varieties\")\n",
    "plt.ylabel('Speal Lengths')\n",
    "plt.title('Violin Plot of Sepal Lengths')\n",
    "plt.show()"
   ]
  },
  {
   "attachments": {},
   "cell_type": "markdown",
   "id": "da4bfb0d",
   "metadata": {},
   "source": [
    "You may make the violin plot horizontal to make the labels more visible. You can find more about different `seaborn` color palettes [here](https://seaborn.pydata.org/tutorial/color_palettes.html)."
   ]
  },
  {
   "cell_type": "code",
   "execution_count": null,
   "id": "d86da284",
   "metadata": {},
   "outputs": [],
   "source": [
    "ordered_indices = iris.groupby(by='variety').mean()['sepal.length'].sort_values(ascending=False).index"
   ]
  },
  {
   "cell_type": "code",
   "execution_count": null,
   "id": "ad7c40cb",
   "metadata": {},
   "outputs": [],
   "source": [
    "sns.violinplot(x=iris[\"sepal.length\"], y=iris[\"variety\"], linewidth=3, width=0.75, palette='deep',\n",
    "               order=ordered_indices)\n",
    "plt.xlabel('Speal Length')\n",
    "plt.ylabel(\"Varieties\")\n",
    "plt.title('Violin Plot of Sepal Lengths')\n",
    "plt.show()"
   ]
  },
  {
   "cell_type": "markdown",
   "id": "42deda75",
   "metadata": {},
   "source": [
    "### [Density Plot](https://python-graph-gallery.com/density-plot/)\n",
    "Density plots allow you to visualize the distribution of a numeric variable for one or several groups. They are very well adapted for large datasets. Note that 2 approaches exist to build them in python: the first one consists of computing a kernel density estimate, and the second one involves building a high resolution histogram."
   ]
  },
  {
   "cell_type": "code",
   "execution_count": null,
   "id": "0d2ba042",
   "metadata": {},
   "outputs": [],
   "source": [
    "sns.kdeplot(iris['sepal.width'], fill=True, bw_method=0.5, color=\"olive\")\n",
    "plt.xlabel('Speal Width')\n",
    "plt.ylabel(\"Density\")\n",
    "plt.title('Density Plot of Sepal Widths')\n",
    "plt.show()"
   ]
  },
  {
   "cell_type": "markdown",
   "id": "15929f6d",
   "metadata": {},
   "source": [
    "Sometimes, you may want to group your density plot by some categorical feature."
   ]
  },
  {
   "cell_type": "code",
   "execution_count": null,
   "id": "faff08bd",
   "metadata": {},
   "outputs": [],
   "source": [
    "sns.kdeplot(data=iris, x='sepal.width', hue='variety', fill=True, bw_method=0.5)\n",
    "plt.xlabel('Speal Width')\n",
    "plt.ylabel(\"Density\")\n",
    "plt.title('Density Plot of Sepal Widths')\n",
    "plt.show()"
   ]
  },
  {
   "cell_type": "markdown",
   "id": "87e8d8a8",
   "metadata": {},
   "source": [
    "It is sometimes particularly useful to plot the distribution of several variables on the same plot in order to compare them more easily. "
   ]
  },
  {
   "cell_type": "code",
   "execution_count": null,
   "id": "ec7e0b41",
   "metadata": {},
   "outputs": [],
   "source": [
    "fig = sns.kdeplot(iris['sepal.width'], fill=True, color=\"r\")\n",
    "fig = sns.kdeplot(iris['sepal.length'], fill=True, color=\"b\")\n",
    "plt.xlabel('Speal Width & Sepal Length')\n",
    "plt.ylabel(\"Density\")\n",
    "plt.title('Density Plot of Sepal Widths & Sepal Lengths')\n",
    "plt.show()"
   ]
  },
  {
   "cell_type": "markdown",
   "id": "22b4a2b2",
   "metadata": {},
   "source": [
    "### [Histograms](https://python-graph-gallery.com/histogram/)\n",
    "A Histogram represents the distribution of a numeric variable for one or several groups. The values are split in bins, each bin is represented as a bar."
   ]
  },
  {
   "cell_type": "code",
   "execution_count": null,
   "id": "d5297eba",
   "metadata": {},
   "outputs": [],
   "source": [
    "sns.displot(x=iris[\"sepal.length\"], kde=True, rug=True, color='olive')\n",
    "plt.xlabel('Sepal Length')\n",
    "plt.ylabel(\"Count\")\n",
    "plt.title('Histogram of Sepal Lengths')\n",
    "plt.show()"
   ]
  },
  {
   "cell_type": "markdown",
   "id": "cf9952a5",
   "metadata": {},
   "source": [
    "Like density plots, you can also group your histograms by any categorical variable."
   ]
  },
  {
   "cell_type": "code",
   "execution_count": null,
   "id": "45a8e867",
   "metadata": {},
   "outputs": [],
   "source": [
    "sns.displot(data=iris, x=\"sepal.length\", hue=\"variety\", rug=False, alpha=0.5)\n",
    "plt.xlabel('Sepal Length')\n",
    "plt.ylabel(\"Count\")\n",
    "plt.title('Histogram of Sepal Lengths')\n",
    "plt.show()"
   ]
  },
  {
   "cell_type": "markdown",
   "id": "117abe94",
   "metadata": {},
   "source": [
    "You can plot different variables in different axes."
   ]
  },
  {
   "cell_type": "code",
   "execution_count": null,
   "id": "8a65c70c",
   "metadata": {},
   "outputs": [],
   "source": [
    "fig, axs = plt.subplots(2, 2, figsize=(7, 7))\n",
    "\n",
    "sns.histplot(data=iris, x=\"sepal.length\", kde=True, color=\"skyblue\", ax=axs[0, 0])\n",
    "sns.histplot(data=iris, x=\"sepal.width\", kde=True, color=\"olive\", ax=axs[0, 1])\n",
    "sns.histplot(data=iris, x=\"petal.length\", kde=True, color=\"gold\", ax=axs[1, 0])\n",
    "sns.histplot(data=iris, x=\"petal.width\", kde=True, color=\"teal\", ax=axs[1, 1])\n",
    "\n",
    "axs[0, 0].set_xlabel(\"Sepal Length\")\n",
    "axs[0, 1].set_xlabel(\"Sepal Width\")\n",
    "axs[1, 0].set_xlabel(\"Petal Length\")\n",
    "axs[1, 1].set_xlabel(\"Petal Width\")\n",
    "\n",
    "plt.show()"
   ]
  },
  {
   "cell_type": "markdown",
   "id": "a2133b01",
   "metadata": {},
   "source": [
    "### [Boxplot](https://python-graph-gallery.com/boxplot/)\n",
    "\n",
    "A boxplot summarizes the distribution of a numeric variable for one or several groups. It allows to quickly get the median, quartiles and outliers but also hides the dataset individual data points."
   ]
  },
  {
   "cell_type": "code",
   "execution_count": null,
   "id": "a81bf983",
   "metadata": {},
   "outputs": [],
   "source": [
    "fig = sns.boxplot(data=iris, x=\"variety\", y=\"sepal.length\", palette=\"Reds\", notch=False, width=0.5,\n",
    "                    linewidth=2.5)\n",
    "fig = sns.swarmplot(data=iris, x=\"variety\", y=\"sepal.length\", alpha=0.25)\n",
    "plt.xlabel('Variety')\n",
    "plt.ylabel(\"Sepal Length (Cm)\")\n",
    "plt.title('Boxplot of Sepal Lengths')\n",
    "plt.show()"
   ]
  },
  {
   "cell_type": "markdown",
   "id": "aea04804",
   "metadata": {},
   "source": [
    "# Visualizing Correlation with Seaborn\n",
    "\n",
    "### [Scatter Plot](https://python-graph-gallery.com/scatter-plot/)\n",
    "A scatter plot displays the relationship between 2 numeric variables, one being displayed on the X axis (horizontal) and the other on the Y axis (vertical). Each data point is represented as a circle."
   ]
  },
  {
   "cell_type": "code",
   "execution_count": null,
   "id": "04c769a0",
   "metadata": {},
   "outputs": [],
   "source": [
    "sns.regplot(x=iris[\"sepal.length\"], y=iris[\"sepal.width\"], line_kws = {\n",
    "    \"color\": \"olive\",\n",
    "    \"alpha\": 0.50,\n",
    "    \"lw\": 5\n",
    "})\n",
    "plt.xlabel('Sepal Length')\n",
    "plt.ylabel(\"Sepal Width\")\n",
    "plt.title('Scatter Plot of Sepal Lengths & Sepal Widths')\n",
    "plt.show()"
   ]
  },
  {
   "cell_type": "markdown",
   "id": "b6426eb2",
   "metadata": {},
   "source": [
    "You can customize the markers such as changing the marker color, transparency, shape and size. You can find the list of available markers [here](https://python-graph-gallery.com/41-control-marker-features/)."
   ]
  },
  {
   "cell_type": "code",
   "execution_count": null,
   "id": "2503bf7a",
   "metadata": {},
   "outputs": [],
   "source": [
    "sns.regplot(x=iris[\"sepal.length\"], y=iris[\"sepal.width\"], marker=\"+\", fit_reg=True, scatter_kws={\n",
    "    \"color\":\"darkred\",\n",
    "    \"alpha\": 0.3,\n",
    "    \"s\": 200\n",
    "})\n",
    "plt.xlabel('Sepal Length')\n",
    "plt.ylabel(\"Sepal Width\")\n",
    "plt.title('Scatter Plot of Sepal Lengths & Sepal Widths')\n",
    "plt.show()"
   ]
  },
  {
   "cell_type": "markdown",
   "id": "afdd8960",
   "metadata": {},
   "source": [
    "You can use the hue argument in a basic scatterplot in order to define groups in your data by different colors or shapes."
   ]
  },
  {
   "cell_type": "code",
   "execution_count": null,
   "id": "6a5b0885",
   "metadata": {},
   "outputs": [],
   "source": [
    "sns.lmplot(x=\"sepal.length\", y=\"sepal.width\", data=iris, fit_reg=False, hue='variety', legend=False,\n",
    "           markers=[\"o\", \"x\", \"1\"], palette=\"Set1\")\n",
    "\n",
    "plt.xlabel('Sepal Length')\n",
    "plt.ylabel(\"Sepal Width\")\n",
    "plt.title('Scatter Plot of Sepal Lengths & Sepal Widths')\n",
    "\n",
    "plt.text(5, 4.5, \"Setosa\", horizontalalignment='left', size='medium', color='black', weight='semibold')\n",
    "plt.text(5.5, 1.75, \"Versicolor\", horizontalalignment='left', size='medium', color='black', weight='semibold')\n",
    "plt.text(7.5, 2, \"Virginica\", horizontalalignment='left', size='medium', color='black', weight='semibold')\n",
    "\n",
    "plt.xlim(4, 8.5)\n",
    "plt.ylim(1.5, 5)\n",
    "\n",
    "plt.legend()\n",
    "plt.show()"
   ]
  },
  {
   "cell_type": "markdown",
   "id": "d38fd2ef",
   "metadata": {},
   "source": [
    "### [Heatmap](https://python-graph-gallery.com/heatmap/)\n",
    "A heatmap is a graphical representation of data where each value of a matrix is represented as a color. You can find more about color maps [here](https://python-graph-gallery.com/92-control-color-in-seaborn-heatmaps/)."
   ]
  },
  {
   "cell_type": "code",
   "execution_count": null,
   "id": "a2f7d9f8",
   "metadata": {},
   "outputs": [],
   "source": [
    "df = pd.DataFrame(np.random.random((5,5)), columns=[\"a\",\"b\",\"c\",\"d\",\"e\"])\n",
    "p1 = sns.heatmap(df, cmap=\"Reds\", annot=True, annot_kws = {\n",
    "    \"size\": 12\n",
    "}, linecolor=\"black\", linewidth=2, xticklabels=True, yticklabels=True, cbar=False)"
   ]
  },
  {
   "cell_type": "markdown",
   "id": "226f0573",
   "metadata": {},
   "source": [
    "### [Correlogram](https://python-graph-gallery.com/correlogram/)\n",
    "A correlogram or correlation matrix allows to analyse the relationship between each pair of numeric variables of a matrix. The correlation is visualised as a scatterplot. The diagonal represents the distribution of each variable with a histogram or a density plot.\n",
    "\n",
    "- `diag_kind`: the kind of plot for the diagonal subplots (possible kinds are ‘auto’, ‘hist’, ‘kde’, None)\n",
    "- `kind`: kind of plot to make (possible kinds are ‘scatter’, ‘kde’, ‘hist’, ‘reg’)\n",
    "- `hue`: variables that define subsets of the data\n",
    "- `markers`: a list of marker shapes\n",
    "- `palette`: set of colors for mapping the hue variable\n",
    "- `plot_kws`: a dictionary of keyword arguments to modificate the plot"
   ]
  },
  {
   "cell_type": "code",
   "execution_count": null,
   "id": "924eb04d",
   "metadata": {},
   "outputs": [],
   "source": [
    "sns.pairplot(iris, kind=\"scatter\", diag_kind=\"hist\", hue=\"variety\", markers=[\"o\", \"s\", \"D\"], palette=\"Reds\",\n",
    "             plot_kws=dict(s=80, edgecolor=\"olive\", linewidth=1.5, alpha=0.5))\n",
    "plt.show()"
   ]
  },
  {
   "cell_type": "markdown",
   "id": "fcea3c05",
   "metadata": {},
   "source": [
    "# Visualizing Ranks with Seaborn\n",
    "\n",
    "### [Barplot](https://python-graph-gallery.com/barplot/)\n",
    "A barplot shows the relationship between a numeric and a categoric variable. Each entity of the categoric variable is represented as a bar. The size of the bar represents its numeric value."
   ]
  },
  {
   "cell_type": "code",
   "execution_count": null,
   "id": "439e7f95",
   "metadata": {},
   "outputs": [],
   "source": [
    "tips = sns.load_dataset(\"tips\")\n",
    "tips.sample(5)"
   ]
  },
  {
   "cell_type": "code",
   "execution_count": null,
   "metadata": {},
   "outputs": [],
   "source": [
    "plt.figure(figsize=(7, 5))\n",
    "sns.barplot(x=\"total_bill\", y=\"day\", data=tips, estimator=sum, errorbar=None, color='steelblue',\n",
    "            order=[\"Fri\",\"Thur\",\"Sun\",\"Sat\"]);\n",
    "plt.xlabel(\"Total Bill\")\n",
    "plt.ylabel(\"Weekday\")\n",
    "plt.title(\"Total Bill Per Day\")\n",
    "plt.show()"
   ]
  },
  {
   "cell_type": "markdown",
   "id": "6082eee8",
   "metadata": {},
   "source": [
    "Sometimes, you may want to further divide the groups into subgroups. We will use a grouped bar chart for this purpose."
   ]
  },
  {
   "cell_type": "code",
   "execution_count": null,
   "id": "10ae9c68",
   "metadata": {},
   "outputs": [],
   "source": [
    "sns.barplot(x=\"day\", y=\"total_bill\", hue=\"smoker\", data=tips, errorbar=None);\n",
    "plt.show()"
   ]
  },
  {
   "cell_type": "markdown",
   "id": "13320b70",
   "metadata": {},
   "source": [
    "With more than 2 groups you can use the `catplot()` function to split the plot window. There will be one distinct plot for each of the last subgroup levels."
   ]
  },
  {
   "cell_type": "code",
   "execution_count": null,
   "id": "b9971d2d",
   "metadata": {},
   "outputs": [],
   "source": [
    "sns.catplot(x=\"sex\", y=\"total_bill\", hue=\"smoker\", col=\"day\", data=tips, kind=\"bar\", height=4, aspect=.7)\n",
    "plt.show()"
   ]
  },
  {
   "cell_type": "code",
   "execution_count": null,
   "id": "10e08665",
   "metadata": {},
   "outputs": [],
   "source": []
  }
 ],
 "metadata": {
  "kernelspec": {
   "display_name": "base",
   "language": "python",
   "name": "python3"
  },
  "language_info": {
   "codemirror_mode": {
    "name": "ipython",
    "version": 3
   },
   "file_extension": ".py",
   "mimetype": "text/x-python",
   "name": "python",
   "nbconvert_exporter": "python",
   "pygments_lexer": "ipython3",
   "version": "3.11.4"
  },
  "vscode": {
   "interpreter": {
    "hash": "fb3c4fd9fe25374e0159eca8b8e2d468e8cbc895c30c0bc56e2d3921906cc884"
   }
  }
 },
 "nbformat": 4,
 "nbformat_minor": 5
}
